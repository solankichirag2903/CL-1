{
 "cells": [
  {
   "cell_type": "code",
   "execution_count": 1,
   "id": "8a704fd1-6c1f-431d-8dc6-6410631d1482",
   "metadata": {},
   "outputs": [],
   "source": [
    "import requests\n",
    "import pandas as pd\n",
    "import datetime\n",
    "# Set your OpenWeatherMap API key\n",
    "api_key = 'fb365aa6104829b44455572365ff3b4e'"
   ]
  },
  {
   "cell_type": "code",
   "execution_count": 13,
   "id": "b5be1aae-340a-4f1e-906c-a268f122010d",
   "metadata": {},
   "outputs": [],
   "source": [
    "lat = 18.184135\n",
    "lon = 74.610764"
   ]
  },
  {
   "cell_type": "code",
   "execution_count": 14,
   "id": "43d237ba-138f-4bcf-8125-85ec2ab0e933",
   "metadata": {},
   "outputs": [
    {
     "data": {
      "text/plain": [
       "{'dt': 1730797200,\n",
       " 'main': {'temp': 304.13,\n",
       "  'feels_like': 302.77,\n",
       "  'temp_min': 304.13,\n",
       "  'temp_max': 304.13,\n",
       "  'pressure': 1011,\n",
       "  'sea_level': 1011,\n",
       "  'grnd_level': 948,\n",
       "  'humidity': 29,\n",
       "  'temp_kf': 0},\n",
       " 'weather': [{'id': 800,\n",
       "   'main': 'Clear',\n",
       "   'description': 'clear sky',\n",
       "   'icon': '01d'}],\n",
       " 'clouds': {'all': 0},\n",
       " 'wind': {'speed': 3.53, 'deg': 85, 'gust': 4.18},\n",
       " 'visibility': 10000,\n",
       " 'pop': 0,\n",
       " 'sys': {'pod': 'd'},\n",
       " 'dt_txt': '2024-11-05 09:00:00'}"
      ]
     },
     "execution_count": 14,
     "metadata": {},
     "output_type": "execute_result"
    }
   ],
   "source": [
    "api_url = f\"http://api.openweathermap.org/data/2.5/forecast?lat={lat}&lon={lon}&appid={api_key}\"\n",
    "# Send a GET request to the API\n",
    "response = requests.get(api_url)\n",
    "weather_data = response.json() #pass response to weather_data object(dictionary)\n",
    "weather_data.keys()\n",
    "dict_keys=(['cod', 'message', 'cnt', 'list', 'city'])\n",
    "weather_data['list'][0]\n"
   ]
  },
  {
   "cell_type": "code",
   "execution_count": 15,
   "id": "54eba7b4-a53d-4cb8-8e41-79e523f9de34",
   "metadata": {},
   "outputs": [
    {
     "data": {
      "text/plain": [
       "40"
      ]
     },
     "execution_count": 15,
     "metadata": {},
     "output_type": "execute_result"
    }
   ],
   "source": [
    "len(weather_data['list'])\n"
   ]
  },
  {
   "cell_type": "code",
   "execution_count": 16,
   "id": "7c607e2f-122f-4c12-a275-eaf6ae0e5cfb",
   "metadata": {},
   "outputs": [
    {
     "data": {
      "text/plain": [
       "'clear sky'"
      ]
     },
     "execution_count": 16,
     "metadata": {},
     "output_type": "execute_result"
    }
   ],
   "source": [
    "weather_data['list'][0]['weather'][0]['description']\n",
    "\n"
   ]
  },
  {
   "cell_type": "code",
   "execution_count": 17,
   "id": "b1cb78d0-a19a-45a4-9b94-822ff328f873",
   "metadata": {},
   "outputs": [],
   "source": [
    " \n",
    "\n",
    "temperatures = [item['main']['temp'] for item in weather_data['list']]\n",
    "timestamps = [pd.to_datetime(item['dt'], unit='s') for item in weather_data['list']]\n",
    "temperature = [item['main']['temp'] for item in weather_data['list']]\n",
    "humidity = [item['main']['humidity'] for item in weather_data['list']]\n",
    "wind_speed = [item['wind']['speed'] for item in weather_data['list']]\n",
    "weather_description = [item['weather'][0]['description'] for item in weather_data['list']]\n"
   ]
  },
  {
   "cell_type": "code",
   "execution_count": 18,
   "id": "fd3f4164-7582-44cc-aeb4-3f032860fbf6",
   "metadata": {},
   "outputs": [],
   "source": [
    "# Create a pandas DataFrame with the extracted weather data\n",
    "weather_df = pd.DataFrame({\n",
    "'Timestamp': timestamps,\n",
    "'Temperature': temperatures,\n",
    "'humidity': humidity,\n",
    "'wind_speed': wind_speed,\n",
    "'weather_description': weather_description,\n",
    "})\n",
    "# Set the Timestamp column as the DataFrame's index\n"
   ]
  },
  {
   "cell_type": "code",
   "execution_count": 19,
   "id": "f8be7b19-c23e-422c-9b47-1bcb901867ea",
   "metadata": {},
   "outputs": [
    {
     "data": {
      "text/plain": [
       "304.37"
      ]
     },
     "execution_count": 19,
     "metadata": {},
     "output_type": "execute_result"
    }
   ],
   "source": [
    "weather_df.set_index('Timestamp', inplace=True)\n",
    "max_temp = weather_df['Temperature'].max()\n",
    "max_temp\n"
   ]
  },
  {
   "cell_type": "code",
   "execution_count": 20,
   "id": "ed161768-b5d7-41f7-ac02-db7a0ef75d08",
   "metadata": {},
   "outputs": [
    {
     "data": {
      "text/plain": [
       "292.99"
      ]
     },
     "execution_count": 20,
     "metadata": {},
     "output_type": "execute_result"
    }
   ],
   "source": [
    "min_temp = weather_df['Temperature'].min()\n",
    "min_temp\n",
    "\n"
   ]
  },
  {
   "cell_type": "code",
   "execution_count": 21,
   "id": "69eac571-f54f-4007-93b9-29e00820c112",
   "metadata": {},
   "outputs": [],
   "source": [
    "# Handling missing values\n",
    "weather_df.fillna(0, inplace=True) # Replace missing values with 0 or appropriate value\n",
    "# Handling inconsistent format (if applicable)\n"
   ]
  },
  {
   "cell_type": "code",
   "execution_count": 22,
   "id": "02131617-ef1d-4393-b8fe-8131ad67e0d1",
   "metadata": {},
   "outputs": [
    {
     "name": "stdout",
     "output_type": "stream",
     "text": [
      "                     Temperature  humidity  wind_speed weather_description\n",
      "Timestamp                                                                 \n",
      "2024-11-05 09:00:00       304.13        29        3.53           clear sky\n",
      "2024-11-05 12:00:00       303.60        32        1.89           clear sky\n",
      "2024-11-05 15:00:00       300.90        37        3.04          few clouds\n",
      "2024-11-05 18:00:00       296.78        51        2.77          few clouds\n",
      "2024-11-05 21:00:00       295.13        56        1.77           clear sky\n",
      "2024-11-06 00:00:00       294.08        61        1.76           clear sky\n",
      "2024-11-06 03:00:00       297.79        49        1.46           clear sky\n",
      "2024-11-06 06:00:00       302.11        37        2.04           clear sky\n",
      "2024-11-06 09:00:00       304.37        29        3.13           clear sky\n",
      "2024-11-06 12:00:00       303.01        32        2.80           clear sky\n",
      "2024-11-06 15:00:00       298.79        36        4.30           clear sky\n",
      "2024-11-06 18:00:00       296.38        44        3.70           clear sky\n",
      "2024-11-06 21:00:00       294.38        52        2.05           clear sky\n",
      "2024-11-07 00:00:00       292.99        58        1.32    scattered clouds\n",
      "2024-11-07 03:00:00       296.85        51        1.42    scattered clouds\n",
      "2024-11-07 06:00:00       301.78        32        2.31    scattered clouds\n",
      "2024-11-07 09:00:00       303.94        24        3.24           clear sky\n",
      "2024-11-07 12:00:00       302.16        30        3.35          few clouds\n",
      "2024-11-07 15:00:00       297.96        37        4.08           clear sky\n",
      "2024-11-07 18:00:00       295.72        49        2.17           clear sky\n",
      "2024-11-07 21:00:00       294.15        57        2.22           clear sky\n",
      "2024-11-08 00:00:00       293.10        60        2.04           clear sky\n",
      "2024-11-08 03:00:00       296.69        51        2.80           clear sky\n",
      "2024-11-08 06:00:00       301.37        37        4.27           clear sky\n",
      "2024-11-08 09:00:00       303.44        29        3.33           clear sky\n",
      "2024-11-08 12:00:00       301.81        33        2.36           clear sky\n",
      "2024-11-08 15:00:00       297.70        40        2.43           clear sky\n",
      "2024-11-08 18:00:00       295.89        49        3.75           clear sky\n",
      "2024-11-08 21:00:00       294.48        55        2.92           clear sky\n",
      "2024-11-09 00:00:00       293.21        59        2.25           clear sky\n",
      "2024-11-09 03:00:00       296.83        49        2.40           clear sky\n",
      "2024-11-09 06:00:00       301.87        34        3.72           clear sky\n",
      "2024-11-09 09:00:00       303.66        27        2.64           clear sky\n",
      "2024-11-09 12:00:00       301.90        33        1.82           clear sky\n",
      "2024-11-09 15:00:00       298.05        37        2.04           clear sky\n",
      "2024-11-09 18:00:00       296.03        44        3.65           clear sky\n",
      "2024-11-09 21:00:00       294.42        52        3.21           clear sky\n",
      "2024-11-10 00:00:00       293.16        57        2.32           clear sky\n",
      "2024-11-10 03:00:00       296.70        48        2.52           clear sky\n",
      "2024-11-10 06:00:00       301.70        35        2.68           clear sky\n"
     ]
    }
   ],
   "source": [
    "\n",
    "print(weather_df)"
   ]
  },
  {
   "cell_type": "code",
   "execution_count": null,
   "id": "4ed427b0-c31f-4dbb-8802-a01cdcd08ab3",
   "metadata": {},
   "outputs": [],
   "source": []
  },
  {
   "cell_type": "code",
   "execution_count": null,
   "id": "dfcea57e-d71c-41ac-b1b8-c49e3d8557ce",
   "metadata": {},
   "outputs": [],
   "source": []
  }
 ],
 "metadata": {
  "kernelspec": {
   "display_name": "Python 3 (ipykernel)",
   "language": "python",
   "name": "python3"
  },
  "language_info": {
   "codemirror_mode": {
    "name": "ipython",
    "version": 3
   },
   "file_extension": ".py",
   "mimetype": "text/x-python",
   "name": "python",
   "nbconvert_exporter": "python",
   "pygments_lexer": "ipython3",
   "version": "3.11.4"
  }
 },
 "nbformat": 4,
 "nbformat_minor": 5
}
